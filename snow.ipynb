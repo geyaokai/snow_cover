{
 "cells": [
  {
   "cell_type": "code",
   "execution_count": 8,
   "metadata": {},
   "outputs": [],
   "source": [
    "import numpy as np\n",
    "import os\n",
    "data_loc=r\"D:\\Data\\snow_cover\"\n",
    "x_test=np.load(os.path.join(data_loc,\"x_test.npy\"))\n",
    "y_test=np.load(os.path.join(data_loc,\"y_test.npy\"))\n",
    "x_train=np.load(os.path.join(data_loc,\"x_train.npy\"))\n",
    "y_train=np.load(os.path.join(data_loc,\"y_train.npy\"))"
   ]
  },
  {
   "cell_type": "code",
   "execution_count": 9,
   "metadata": {},
   "outputs": [
    {
     "name": "stdout",
     "output_type": "stream",
     "text": [
      "x_test's shape is (57249853, 11)\n",
      "y_test's shape is (57249853, 1)\n",
      "x_train's shape is (200479829, 11)\n",
      "y_train's shape is (200479829, 1)\n"
     ]
    }
   ],
   "source": [
    "print(\"x_test's shape is\",x_test.shape)\n",
    "print(\"y_test's shape is\",y_test.shape)\n",
    "print(\"x_train's shape is\",x_train.shape)\n",
    "print(\"y_train's shape is\",y_train.shape)"
   ]
  },
  {
   "cell_type": "markdown",
   "metadata": {},
   "source": [
    "标准化后计算方差\n",
    "可以看出有几列的方差是接近1的，也就是符合正态分布\n",
    "整体而言没有标准话后方差接近于0的数据故不用删除"
   ]
  },
  {
   "cell_type": "code",
   "execution_count": 13,
   "metadata": {},
   "outputs": [
    {
     "name": "stdout",
     "output_type": "stream",
     "text": [
      "[0.99249905 0.9889305  0.30709213 0.6732854  0.35769713 0.34014452\n",
      " 0.9904378  0.8650882  0.83652663 1.0199472  1.1722102 ]\n"
     ]
    }
   ],
   "source": [
    "# Z-score 标准化\n",
    "mean = np.mean(x_test, axis=0)\n",
    "std = np.std(x_test, axis=0)\n",
    "x_test_standardized = (x_test - mean) / std\n",
    "\n",
    "# 计算标准化后每列的方差\n",
    "variances_standardized = np.var(x_test_standardized, axis=0)\n",
    "print(variances_standardized)"
   ]
  },
  {
   "cell_type": "markdown",
   "metadata": {},
   "source": [
    "计划是先随机采样"
   ]
  },
  {
   "cell_type": "code",
   "execution_count": 15,
   "metadata": {},
   "outputs": [
    {
     "name": "stdout",
     "output_type": "stream",
     "text": [
      "(20047982, 11)\n"
     ]
    }
   ],
   "source": [
    "# 进行随机采样，采样 10% 的数据\n",
    "sample_size = int(0.1 * len(x_train))\n",
    "sample_indices = np.random.choice(len(x_train), size=sample_size, replace=False)\n",
    "x_sample = x_train[sample_indices]\n",
    "\n",
    "print(x_sample.shape)  # 输出采样后的数据形状"
   ]
  }
 ],
 "metadata": {
  "kernelspec": {
   "display_name": "Python 3",
   "language": "python",
   "name": "python3"
  },
  "language_info": {
   "codemirror_mode": {
    "name": "ipython",
    "version": 3
   },
   "file_extension": ".py",
   "mimetype": "text/x-python",
   "name": "python",
   "nbconvert_exporter": "python",
   "pygments_lexer": "ipython3",
   "version": "3.9.7"
  }
 },
 "nbformat": 4,
 "nbformat_minor": 2
}
